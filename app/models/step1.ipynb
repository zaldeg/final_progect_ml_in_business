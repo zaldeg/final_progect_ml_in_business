{
 "metadata": {
  "language_info": {
   "codemirror_mode": {
    "name": "ipython",
    "version": 3
   },
   "file_extension": ".py",
   "mimetype": "text/x-python",
   "name": "python",
   "nbconvert_exporter": "python",
   "pygments_lexer": "ipython3",
   "version": "3.8.5-final"
  },
  "orig_nbformat": 2,
  "kernelspec": {
   "name": "python3",
   "display_name": "Python 3.8.5 64-bit",
   "metadata": {
    "interpreter": {
     "hash": "f7c604d00f38437f4df57123c10451e0676060e1a3eca5c56f25a4495d595057"
    }
   }
  }
 },
 "nbformat": 4,
 "nbformat_minor": 2,
 "cells": [
  {
   "cell_type": "code",
   "execution_count": 171,
   "metadata": {},
   "outputs": [],
   "source": [
    "import numpy as np\n",
    "import pandas as pd\n",
    "\n",
    "from sklearn.ensemble import GradientBoostingClassifier\n",
    "\n",
    "from sklearn.metrics import roc_auc_score\n",
    "\n",
    "from sklearn.pipeline import Pipeline, make_pipeline\n",
    "from sklearn.base import BaseEstimator, TransformerMixin\n",
    "\n",
    "from sklearn.impute import SimpleImputer\n",
    "from sklearn.preprocessing import StandardScaler, MinMaxScaler\n",
    "from sklearn.pipeline import FeatureUnion\n",
    "\n",
    "from sklearn.model_selection import train_test_split\n",
    "\n",
    "import dill"
   ]
  },
  {
   "cell_type": "code",
   "execution_count": 172,
   "metadata": {},
   "outputs": [],
   "source": [
    "df = pd.read_csv('train_airplane.csv')"
   ]
  },
  {
   "cell_type": "code",
   "execution_count": 173,
   "metadata": {},
   "outputs": [],
   "source": [
    "#соберем наш простой pipeline, но нам понадобится написать класс для выбора нужного поля\n",
    "class FeatureSelector(BaseEstimator, TransformerMixin):\n",
    "    def __init__(self, column):\n",
    "        self.column = column\n",
    "\n",
    "    def fit(self, X, y=None):\n",
    "        return self\n",
    "\n",
    "    def transform(self, X, y=None):\n",
    "        return X[self.column]\n",
    "\n",
    "    \n",
    "class NumberSelector(BaseEstimator, TransformerMixin):\n",
    "    \"\"\"\n",
    "    Transformer to select a single column from the data frame to perform additional transformations on\n",
    "    Use on numeric columns in the data\n",
    "    \"\"\"\n",
    "    def __init__(self, key):\n",
    "        self.key = key\n",
    "\n",
    "    def fit(self, X, y=None):\n",
    "        return self\n",
    "\n",
    "    def transform(self, X):\n",
    "        return X[[self.key]]\n",
    "\n",
    "    \n",
    "class OHEEncoder(BaseEstimator, TransformerMixin):\n",
    "    def __init__(self, key):\n",
    "        self.key = key\n",
    "        self.columns = []\n",
    "\n",
    "    def fit(self, X, y=None):\n",
    "        self.columns = [col for col in pd.get_dummies(X, prefix=self.key).columns]\n",
    "        return self\n",
    "\n",
    "    def transform(self, X):\n",
    "        X = pd.get_dummies(X, prefix=self.key)\n",
    "        test_columns = [col for col in X.columns]\n",
    "        for col_ in self.columns:\n",
    "            if col_ not in test_columns:\n",
    "                X[col_] = 0\n",
    "        return X[self.columns]"
   ]
  },
  {
   "cell_type": "code",
   "execution_count": 174,
   "metadata": {},
   "outputs": [],
   "source": [
    "categorical_columns = ['Type of Travel', 'Gender','Class', 'Customer Type']\n",
    "numerical_columns = [\n",
    "    'Age', 'Flight Distance', 'Inflight wifi service',\n",
    "    'Departure/Arrival time convenient', 'Ease of Online booking',\n",
    "    'Gate location', 'Food and drink', 'Online boarding', 'Seat comfort',\n",
    "    'Inflight entertainment', 'On-board service', 'Leg room service',\n",
    "    'Baggage handling', 'Checkin service', 'Inflight service',\n",
    "    'Cleanliness', 'Departure Delay in Minutes', 'Arrival Delay in Minutes'\n",
    "       ]\n",
    "features = categorical_columns + numerical_columns"
   ]
  },
  {
   "cell_type": "code",
   "execution_count": 175,
   "metadata": {},
   "outputs": [],
   "source": [
    "with open('features.txt', 'w') as f:  \n",
    "    f.writelines(f\"{feature}\\n\"for feature in features)"
   ]
  },
  {
   "cell_type": "code",
   "execution_count": 176,
   "metadata": {},
   "outputs": [],
   "source": [
    "df.satisfaction.replace({'satisfied': 1, 'neutral or dissatisfied':  0}, inplace=True)"
   ]
  },
  {
   "cell_type": "code",
   "execution_count": 177,
   "metadata": {},
   "outputs": [],
   "source": [
    "X_train, X_test, y_train, y_test = train_test_split(df.iloc[:,:-1], df.iloc[:,-1], random_state=123)\n",
    "\n",
    "#save test\n",
    "X_test.to_csv(\"X_test.csv\", index=None)\n",
    "y_test.to_csv(\"y_test.csv\", index=None)\n",
    "#save train\n",
    "X_train.to_csv(\"X_train.csv\", index=None)\n",
    "y_train.to_csv(\"y_train.csv\", index=None)"
   ]
  },
  {
   "cell_type": "code",
   "execution_count": 178,
   "metadata": {},
   "outputs": [],
   "source": [
    "final_transformers = list()\n",
    "\n",
    "for cat_col in categorical_columns:\n",
    "    cat_transformer = Pipeline([\n",
    "                ('selector', FeatureSelector(column=cat_col))\n",
    "                ,('ohe', OHEEncoder(key=cat_col))\n",
    "                ,('nan_imputer', SimpleImputer(strategy='most_frequent'))\n",
    "            ])\n",
    "    final_transformers.append((cat_col, cat_transformer))\n",
    "\n",
    "for num_col in numerical_columns:\n",
    "    numerical_transformer = Pipeline([\n",
    "                ('selector', NumberSelector(key=num_col))\n",
    "                ,('nan_imputer', SimpleImputer())\n",
    "                # ,('standartize', StandardScaler())\n",
    "                # ,('normilize', MinMaxScaler())\n",
    "            ])\n",
    "    final_transformers.append((num_col, numerical_transformer))\n"
   ]
  },
  {
   "cell_type": "code",
   "execution_count": 179,
   "metadata": {},
   "outputs": [
    {
     "output_type": "execute_result",
     "data": {
      "text/plain": [
       "[('Type of Travel',\n",
       "  Pipeline(steps=[('selector', FeatureSelector(column='Type of Travel')),\n",
       "                  ('ohe', OHEEncoder(key='Type of Travel')),\n",
       "                  ('nan_imputer', SimpleImputer(strategy='most_frequent'))])),\n",
       " ('Gender',\n",
       "  Pipeline(steps=[('selector', FeatureSelector(column='Gender')),\n",
       "                  ('ohe', OHEEncoder(key='Gender')),\n",
       "                  ('nan_imputer', SimpleImputer(strategy='most_frequent'))])),\n",
       " ('Class',\n",
       "  Pipeline(steps=[('selector', FeatureSelector(column='Class')),\n",
       "                  ('ohe', OHEEncoder(key='Class')),\n",
       "                  ('nan_imputer', SimpleImputer(strategy='most_frequent'))])),\n",
       " ('Customer Type',\n",
       "  Pipeline(steps=[('selector', FeatureSelector(column='Customer Type')),\n",
       "                  ('ohe', OHEEncoder(key='Customer Type')),\n",
       "                  ('nan_imputer', SimpleImputer(strategy='most_frequent'))])),\n",
       " ('Age',\n",
       "  Pipeline(steps=[('selector', NumberSelector(key='Age')),\n",
       "                  ('nan_imputer', SimpleImputer())])),\n",
       " ('Flight Distance',\n",
       "  Pipeline(steps=[('selector', NumberSelector(key='Flight Distance')),\n",
       "                  ('nan_imputer', SimpleImputer())])),\n",
       " ('Inflight wifi service',\n",
       "  Pipeline(steps=[('selector', NumberSelector(key='Inflight wifi service')),\n",
       "                  ('nan_imputer', SimpleImputer())])),\n",
       " ('Departure/Arrival time convenient',\n",
       "  Pipeline(steps=[('selector',\n",
       "                   NumberSelector(key='Departure/Arrival time convenient')),\n",
       "                  ('nan_imputer', SimpleImputer())])),\n",
       " ('Ease of Online booking',\n",
       "  Pipeline(steps=[('selector', NumberSelector(key='Ease of Online booking')),\n",
       "                  ('nan_imputer', SimpleImputer())])),\n",
       " ('Gate location',\n",
       "  Pipeline(steps=[('selector', NumberSelector(key='Gate location')),\n",
       "                  ('nan_imputer', SimpleImputer())])),\n",
       " ('Food and drink',\n",
       "  Pipeline(steps=[('selector', NumberSelector(key='Food and drink')),\n",
       "                  ('nan_imputer', SimpleImputer())])),\n",
       " ('Online boarding',\n",
       "  Pipeline(steps=[('selector', NumberSelector(key='Online boarding')),\n",
       "                  ('nan_imputer', SimpleImputer())])),\n",
       " ('Seat comfort',\n",
       "  Pipeline(steps=[('selector', NumberSelector(key='Seat comfort')),\n",
       "                  ('nan_imputer', SimpleImputer())])),\n",
       " ('Inflight entertainment',\n",
       "  Pipeline(steps=[('selector', NumberSelector(key='Inflight entertainment')),\n",
       "                  ('nan_imputer', SimpleImputer())])),\n",
       " ('On-board service',\n",
       "  Pipeline(steps=[('selector', NumberSelector(key='On-board service')),\n",
       "                  ('nan_imputer', SimpleImputer())])),\n",
       " ('Leg room service',\n",
       "  Pipeline(steps=[('selector', NumberSelector(key='Leg room service')),\n",
       "                  ('nan_imputer', SimpleImputer())])),\n",
       " ('Baggage handling',\n",
       "  Pipeline(steps=[('selector', NumberSelector(key='Baggage handling')),\n",
       "                  ('nan_imputer', SimpleImputer())])),\n",
       " ('Checkin service',\n",
       "  Pipeline(steps=[('selector', NumberSelector(key='Checkin service')),\n",
       "                  ('nan_imputer', SimpleImputer())])),\n",
       " ('Inflight service',\n",
       "  Pipeline(steps=[('selector', NumberSelector(key='Inflight service')),\n",
       "                  ('nan_imputer', SimpleImputer())])),\n",
       " ('Cleanliness',\n",
       "  Pipeline(steps=[('selector', NumberSelector(key='Cleanliness')),\n",
       "                  ('nan_imputer', SimpleImputer())])),\n",
       " ('Departure Delay in Minutes',\n",
       "  Pipeline(steps=[('selector', NumberSelector(key='Departure Delay in Minutes')),\n",
       "                  ('nan_imputer', SimpleImputer())])),\n",
       " ('Arrival Delay in Minutes',\n",
       "  Pipeline(steps=[('selector', NumberSelector(key='Arrival Delay in Minutes')),\n",
       "                  ('nan_imputer', SimpleImputer())]))]"
      ]
     },
     "metadata": {},
     "execution_count": 179
    }
   ],
   "source": [
    "final_transformers"
   ]
  },
  {
   "cell_type": "code",
   "execution_count": 180,
   "metadata": {},
   "outputs": [
    {
     "output_type": "execute_result",
     "data": {
      "text/plain": [
       "Pipeline(steps=[('feats',\n",
       "                 FeatureUnion(transformer_list=[('Type of Travel',\n",
       "                                                 Pipeline(steps=[('selector',\n",
       "                                                                  FeatureSelector(column='Type '\n",
       "                                                                                         'of '\n",
       "                                                                                         'Travel')),\n",
       "                                                                 ('ohe',\n",
       "                                                                  OHEEncoder(key='Type '\n",
       "                                                                                 'of '\n",
       "                                                                                 'Travel')),\n",
       "                                                                 ('nan_imputer',\n",
       "                                                                  SimpleImputer(strategy='most_frequent'))])),\n",
       "                                                ('Gender',\n",
       "                                                 Pipeline(steps=[('selector',\n",
       "                                                                  FeatureSelector(column='Gender')),\n",
       "                                                                 ('ohe',\n",
       "                                                                  OHEEncoder(key='Gender'))...\n",
       "                                                                  NumberSelector(key='Cleanliness')),\n",
       "                                                                 ('nan_imputer',\n",
       "                                                                  SimpleImputer())])),\n",
       "                                                ('Departure Delay in Minutes',\n",
       "                                                 Pipeline(steps=[('selector',\n",
       "                                                                  NumberSelector(key='Departure '\n",
       "                                                                                     'Delay '\n",
       "                                                                                     'in '\n",
       "                                                                                     'Minutes')),\n",
       "                                                                 ('nan_imputer',\n",
       "                                                                  SimpleImputer())])),\n",
       "                                                ('Arrival Delay in Minutes',\n",
       "                                                 Pipeline(steps=[('selector',\n",
       "                                                                  NumberSelector(key='Arrival '\n",
       "                                                                                     'Delay '\n",
       "                                                                                     'in '\n",
       "                                                                                     'Minutes')),\n",
       "                                                                 ('nan_imputer',\n",
       "                                                                  SimpleImputer())]))]))])"
      ]
     },
     "metadata": {},
     "execution_count": 180
    }
   ],
   "source": [
    "feats = FeatureUnion(final_transformers)\n",
    "\n",
    "Pipeline([('feats', feats)])"
   ]
  },
  {
   "cell_type": "code",
   "execution_count": 181,
   "metadata": {},
   "outputs": [],
   "source": [
    "gboost = Pipeline([\n",
    "    ('features',feats),\n",
    "    ('classifier', GradientBoostingClassifier(n_estimators=150, learning_rate=0.5, max_depth=5)),\n",
    "])"
   ]
  },
  {
   "cell_type": "code",
   "execution_count": 182,
   "metadata": {},
   "outputs": [
    {
     "output_type": "execute_result",
     "data": {
      "text/plain": [
       "Pipeline(steps=[('features',\n",
       "                 FeatureUnion(transformer_list=[('Type of Travel',\n",
       "                                                 Pipeline(steps=[('selector',\n",
       "                                                                  FeatureSelector(column='Type '\n",
       "                                                                                         'of '\n",
       "                                                                                         'Travel')),\n",
       "                                                                 ('ohe',\n",
       "                                                                  OHEEncoder(key='Type '\n",
       "                                                                                 'of '\n",
       "                                                                                 'Travel')),\n",
       "                                                                 ('nan_imputer',\n",
       "                                                                  SimpleImputer(strategy='most_frequent'))])),\n",
       "                                                ('Gender',\n",
       "                                                 Pipeline(steps=[('selector',\n",
       "                                                                  FeatureSelector(column='Gender')),\n",
       "                                                                 ('ohe',\n",
       "                                                                  OHEEncoder(key='Gender...\n",
       "                                                ('Departure Delay in Minutes',\n",
       "                                                 Pipeline(steps=[('selector',\n",
       "                                                                  NumberSelector(key='Departure '\n",
       "                                                                                     'Delay '\n",
       "                                                                                     'in '\n",
       "                                                                                     'Minutes')),\n",
       "                                                                 ('nan_imputer',\n",
       "                                                                  SimpleImputer())])),\n",
       "                                                ('Arrival Delay in Minutes',\n",
       "                                                 Pipeline(steps=[('selector',\n",
       "                                                                  NumberSelector(key='Arrival '\n",
       "                                                                                     'Delay '\n",
       "                                                                                     'in '\n",
       "                                                                                     'Minutes')),\n",
       "                                                                 ('nan_imputer',\n",
       "                                                                  SimpleImputer())]))])),\n",
       "                ('classifier',\n",
       "                 GradientBoostingClassifier(learning_rate=0.5, max_depth=5,\n",
       "                                            n_estimators=150))])"
      ]
     },
     "metadata": {},
     "execution_count": 182
    }
   ],
   "source": [
    "gboost.fit(X_train, y_train)\n"
   ]
  },
  {
   "cell_type": "code",
   "execution_count": 183,
   "metadata": {},
   "outputs": [],
   "source": [
    "with open(\"gb_pipeline.dill\", \"wb\") as f:\n",
    "    dill.dump(gboost, f)"
   ]
  }
 ]
}