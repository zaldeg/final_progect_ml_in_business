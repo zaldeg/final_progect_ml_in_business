{
 "metadata": {
  "language_info": {
   "codemirror_mode": {
    "name": "ipython",
    "version": 3
   },
   "file_extension": ".py",
   "mimetype": "text/x-python",
   "name": "python",
   "nbconvert_exporter": "python",
   "pygments_lexer": "ipython3",
   "version": "3.8.5-final"
  },
  "orig_nbformat": 2,
  "kernelspec": {
   "name": "python3",
   "display_name": "Python 3.8.5 64-bit",
   "metadata": {
    "interpreter": {
     "hash": "f7c604d00f38437f4df57123c10451e0676060e1a3eca5c56f25a4495d595057"
    }
   }
  }
 },
 "nbformat": 4,
 "nbformat_minor": 2,
 "cells": [
  {
   "cell_type": "code",
   "execution_count": 153,
   "metadata": {},
   "outputs": [],
   "source": [
    "import pandas as pd\n",
    "from sklearn.metrics import roc_auc_score,roc_curve,scorer\n",
    "from urllib import request, parse\n",
    "import requests\n",
    "\n",
    "X_test = pd.read_csv(\"X_test.csv\")\n",
    "y_test = pd.read_csv(\"y_test.csv\")"
   ]
  },
  {
   "cell_type": "code",
   "execution_count": 154,
   "metadata": {},
   "outputs": [],
   "source": [
    "import urllib.request\n",
    "import json      "
   ]
  },
  {
   "cell_type": "code",
   "execution_count": 155,
   "metadata": {},
   "outputs": [],
   "source": [
    "def send_json(body):\n",
    "    myurl = 'http://127.0.0.1:5000/'+'predict'\n",
    "    headers = {'content-type': 'application/json; charset=utf-8'}\n",
    "    response = requests.post(myurl, json=body, headers=headers)\n",
    "    return response.json()['predictions']"
   ]
  },
  {
   "cell_type": "code",
   "execution_count": 156,
   "metadata": {},
   "outputs": [],
   "source": [
    "data = {\n",
    " 'Gender': 'Female',\n",
    " 'Customer Type': 'Loyal Customer',\n",
    " 'Age': 26,\n",
    " 'Type of Travel': 'Business travel',\n",
    " 'Class': 'Business',\n",
    " 'Flight Distance': 2123,\n",
    " 'Inflight wifi service': 3,\n",
    " 'Departure/Arrival time convenient': 3,\n",
    " 'Gate location': 3,\n",
    "#  'Food and drink': 4,\n",
    "#  'Online boarding': 4,\n",
    "#  'Seat comfort': 4,\n",
    "#  'Inflight entertainment': 4,\n",
    "#  'On-board service': 5,\n",
    "#  'Leg room service': 3,\n",
    "# #  'Baggage handling': 4,\n",
    "#  'Checkin service': 5,\n",
    "#  'Inflight service': 4,\n",
    "#  'Cleanliness': 4,\n",
    " 'Departure Delay in Minutes': 49,\n",
    " 'Arrival Delay in Minutes': 51.0\n",
    "}"
   ]
  },
  {
   "cell_type": "code",
   "execution_count": 169,
   "metadata": {},
   "outputs": [],
   "source": [
    "data = {'Type of Travel': 'Personal Travel'}"
   ]
  },
  {
   "cell_type": "code",
   "execution_count": 170,
   "metadata": {},
   "outputs": [],
   "source": [
    "for key in data:\n",
    "    data[key] = [data[key]]"
   ]
  },
  {
   "cell_type": "code",
   "execution_count": 171,
   "metadata": {},
   "outputs": [],
   "source": [
    "# data = {}"
   ]
  },
  {
   "cell_type": "code",
   "execution_count": 172,
   "metadata": {},
   "outputs": [],
   "source": [
    "# data = {'Type of Travel': 'Business travel'}"
   ]
  },
  {
   "cell_type": "code",
   "execution_count": 173,
   "metadata": {},
   "outputs": [
    {
     "output_type": "stream",
     "name": "stdout",
     "text": [
      "предсказание [0]\n"
     ]
    }
   ],
   "source": [
    "if __name__ == '__main__':\n",
    "    response = send_json(data)\n",
    "    print('предсказание',response)"
   ]
  }
 ]
}