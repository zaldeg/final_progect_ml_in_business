{
 "metadata": {
  "language_info": {
   "codemirror_mode": {
    "name": "ipython",
    "version": 3
   },
   "file_extension": ".py",
   "mimetype": "text/x-python",
   "name": "python",
   "nbconvert_exporter": "python",
   "pygments_lexer": "ipython3",
   "version": "3.8.5-final"
  },
  "orig_nbformat": 2,
  "kernelspec": {
   "name": "python3",
   "display_name": "Python 3.8.5 64-bit",
   "metadata": {
    "interpreter": {
     "hash": "f7c604d00f38437f4df57123c10451e0676060e1a3eca5c56f25a4495d595057"
    }
   }
  }
 },
 "nbformat": 4,
 "nbformat_minor": 2,
 "cells": [
  {
   "cell_type": "code",
   "execution_count": 1,
   "metadata": {},
   "outputs": [],
   "source": [
    "import numpy as np\n",
    "import pandas as pd\n",
    "\n",
    "import seaborn as sns\n",
    "import matplotlib.pyplot as plt\n",
    "\n",
    "from sklearn.ensemble import GradientBoostingClassifier\n",
    "\n",
    "from sklearn.metrics import roc_auc_score\n",
    "\n",
    "from sklearn.pipeline import Pipeline\n",
    "from sklearn.base import BaseEstimator, TransformerMixin\n",
    "\n",
    "from sklearn.impute import SimpleImputer\n",
    "from sklearn.preprocessing import OrdinalEncoder\n",
    "from sklearn.pipeline import FeatureUnion\n",
    "\n",
    "from sklearn.model_selection import train_test_split, RandomizedSearchCV\n",
    "\n",
    "import dill"
   ]
  },
  {
   "cell_type": "code",
   "execution_count": 2,
   "metadata": {},
   "outputs": [],
   "source": [
    "df = pd.read_csv('train_airplane.csv')"
   ]
  },
  {
   "cell_type": "code",
   "execution_count": 3,
   "metadata": {},
   "outputs": [],
   "source": [
    "\n",
    "class FeatureSelector(BaseEstimator, TransformerMixin):\n",
    "    def __init__(self, column):\n",
    "        self.column = column\n",
    "\n",
    "    def fit(self, X, y=None):\n",
    "        return self\n",
    "\n",
    "    def transform(self, X, y=None):\n",
    "        return X[self.column]\n",
    "\n",
    "\n",
    "class FeatureSum(BaseEstimator, TransformerMixin):\n",
    "    '''\n",
    "    Transform class for sum of several columns\n",
    "\n",
    "    column - list of columns to sum\n",
    "\n",
    "    Return: DF with one column - sum of given columns\n",
    "    '''\n",
    "    counter = 0\n",
    "    \n",
    "    def __init__(self, column):\n",
    "        self.column = column\n",
    "        \n",
    "\n",
    "    def fit(self, X, y=None):\n",
    "        return self\n",
    "\n",
    "    def transform(self, X, y=None):\n",
    "        FeatureSum.counter += 1\n",
    "        Xt = X[self.column].copy()\n",
    "        Xt[f'sum{FeatureSum.counter}'] = Xt.sum(axis=1, skipna=True)\n",
    "        return Xt[[f'sum{FeatureSum.counter}']]"
   ]
  },
  {
   "cell_type": "code",
   "execution_count": 4,
   "metadata": {},
   "outputs": [],
   "source": [
    "categorical_columns = ['Type of Travel', 'Gender','Class', 'Customer Type']\r\n",
    "categorical_columns2 = [ 'Inflight wifi service',\r\n",
    "    'Departure/Arrival time convenient', 'Ease of Online booking',\r\n",
    "    'Gate location', 'Food and drink', 'Online boarding', 'Seat comfort',\r\n",
    "    'Inflight entertainment', 'On-board service', 'Leg room service',\r\n",
    "    'Baggage handling', 'Checkin service', 'Inflight service',\r\n",
    "    'Cleanliness']\r\n",
    "\r\n",
    "numerical_columns = ['Age', 'Departure Delay in Minutes', 'Arrival Delay in Minutes', 'Flight Distance']\r\n",
    "features = categorical_columns + numerical_columns + categorical_columns2"
   ]
  },
  {
   "cell_type": "code",
   "execution_count": 5,
   "metadata": {},
   "outputs": [],
   "source": [
    "with open('features.txt', 'w') as f:  \n",
    "    f.writelines(f\"{feature}\\n\"for feature in features)"
   ]
  },
  {
   "cell_type": "code",
   "execution_count": 6,
   "metadata": {},
   "outputs": [],
   "source": [
    "df.satisfaction.replace({'satisfied': 1, 'neutral or dissatisfied':  0}, inplace=True)"
   ]
  },
  {
   "cell_type": "code",
   "execution_count": 7,
   "metadata": {},
   "outputs": [],
   "source": [
    "X_train, X_test, y_train, y_test = train_test_split(df.iloc[:,:-1], df.iloc[:,-1], random_state=123)\n",
    "\n",
    "#save test\n",
    "X_test.to_csv(\"X_test.csv\", index=None)\n",
    "y_test.to_csv(\"y_test.csv\", index=None)\n",
    "#save train\n",
    "X_train.to_csv(\"X_train.csv\", index=None)\n",
    "y_train.to_csv(\"y_train.csv\", index=None)"
   ]
  },
  {
   "cell_type": "code",
   "execution_count": 8,
   "metadata": {},
   "outputs": [],
   "source": [
    "pipe1 = Pipeline([\n",
    "    ('column_selector', FeatureSelector(column=categorical_columns)),\n",
    "    ('cat_nan_imputer', SimpleImputer(strategy='most_frequent')),\n",
    "    ('encoder', OrdinalEncoder()),\n",
    "])\n",
    "\n",
    "pipe2 = Pipeline([\n",
    "    ('column_selector', FeatureSelector(column=categorical_columns2)),\n",
    "    ('cat_nan_imputer', SimpleImputer(strategy='most_frequent')),\n",
    "])\n",
    "\n",
    "pipe3 = Pipeline([\n",
    "    ('column_selector', FeatureSelector(column=numerical_columns)),\n",
    "    ('num_nan_imputer', SimpleImputer(strategy='median')) \n",
    "])\n",
    "pipe4 = Pipeline([\n",
    "    ('sum_of_cat', FeatureSum(column=categorical_columns2))\n",
    "])\n",
    "\n",
    "feats = FeatureUnion(\n",
    "    [('categorical', pipe1),\n",
    "    ('categorical2', pipe2),\n",
    "    ('numbers', pipe3),\n",
    "    ('cat2_sum', pipe4)]\n",
    ")"
   ]
  },
  {
   "cell_type": "code",
   "execution_count": 9,
   "metadata": {},
   "outputs": [],
   "source": [
    "gboost = Pipeline([\n",
    "    ('features',feats),\n",
    "    ('classifier', GradientBoostingClassifier(n_estimators=466, learning_rate=0.15214285714285716, max_depth=7)),\n",
    "])"
   ]
  },
  {
   "cell_type": "code",
   "execution_count": 10,
   "metadata": {},
   "outputs": [
    {
     "output_type": "execute_result",
     "data": {
      "text/plain": [
       "Pipeline(steps=[('features',\n",
       "                 FeatureUnion(transformer_list=[('categorical',\n",
       "                                                 Pipeline(steps=[('column_selector',\n",
       "                                                                  FeatureSelector(column=['Type '\n",
       "                                                                                          'of '\n",
       "                                                                                          'Travel',\n",
       "                                                                                          'Gender',\n",
       "                                                                                          'Class',\n",
       "                                                                                          'Customer '\n",
       "                                                                                          'Type'])),\n",
       "                                                                 ('cat_nan_imputer',\n",
       "                                                                  SimpleImputer(strategy='most_frequent')),\n",
       "                                                                 ('encoder',\n",
       "                                                                  OrdinalEncoder())])),\n",
       "                                                ('categorical2',\n",
       "                                                 Pipeline(steps=[('column_selector',\n",
       "                                                                  FeatureSelector(co...\n",
       "                                                                                     'Ease '\n",
       "                                                                                     'of '\n",
       "                                                                                     'Online '\n",
       "                                                                                     'booking',\n",
       "                                                                                     'Gate '\n",
       "                                                                                     'location',\n",
       "                                                                                     'Food '\n",
       "                                                                                     'and '\n",
       "                                                                                     'drink',\n",
       "                                                                                     'Online '\n",
       "                                                                                     'boarding',\n",
       "                                                                                     'Seat '\n",
       "                                                                                     'comfort',\n",
       "                                                                                     'Inflight '\n",
       "                                                                                     'entertainment',\n",
       "                                                                                     'On-board '\n",
       "                                                                                     'service',\n",
       "                                                                                     'Leg '\n",
       "                                                                                     'room '\n",
       "                                                                                     'service',\n",
       "                                                                                     'Baggage '\n",
       "                                                                                     'handling',\n",
       "                                                                                     'Checkin '\n",
       "                                                                                     'service',\n",
       "                                                                                     'Inflight '\n",
       "                                                                                     'service',\n",
       "                                                                                     'Cleanliness']))]))])),\n",
       "                ('classifier',\n",
       "                 GradientBoostingClassifier(learning_rate=0.15214285714285716,\n",
       "                                            max_depth=7, n_estimators=466))])"
      ]
     },
     "metadata": {},
     "execution_count": 10
    }
   ],
   "source": [
    "gboost.fit(X_train, y_train)"
   ]
  },
  {
   "cell_type": "code",
   "execution_count": 11,
   "metadata": {},
   "outputs": [],
   "source": [
    "with open(\"gb_pipeline.dill\", \"wb\") as f:\n",
    "    dill.dump(gboost, f)"
   ]
  }
 ]
}